{
 "cells": [
  {
   "metadata": {},
   "cell_type": "markdown",
   "source": "# Train Dataset Augmentation",
   "id": "17479b24b912ec80"
  },
  {
   "metadata": {},
   "cell_type": "markdown",
   "source": "## Import",
   "id": "7779ace43ca885ba"
  },
  {
   "cell_type": "code",
   "id": "initial_id",
   "metadata": {},
   "source": [
    "import os\n",
    "\n",
    "import random\n",
    "\n",
    "import librosa\n",
    "import soundfile\n",
    "\n",
    "import torch\n",
    "import torchaudio\n",
    "\n",
    "from IPython.display import Audio\n",
    "\n",
    "import pandas as pd\n",
    "from tqdm.notebook import tqdm"
   ],
   "outputs": [],
   "execution_count": null
  },
  {
   "metadata": {},
   "cell_type": "markdown",
   "source": "## Load Data",
   "id": "a097f4de4d8bc719"
  },
  {
   "cell_type": "code",
   "id": "23949a9e89b11885",
   "metadata": {},
   "source": [
    "df = pd.read_csv(\"./data/train.csv\")"
   ],
   "outputs": [],
   "execution_count": null
  },
  {
   "cell_type": "code",
   "id": "539a8ab4-0a83-4450-890b-58f618e3cce4",
   "metadata": {},
   "source": [
    "df['id']"
   ],
   "outputs": [],
   "execution_count": null
  },
  {
   "cell_type": "code",
   "id": "e65c6c9c-4b63-422c-8bed-3e8d5bcaff1c",
   "metadata": {},
   "source": [
    "df['label']"
   ],
   "outputs": [],
   "execution_count": null
  },
  {
   "metadata": {},
   "cell_type": "markdown",
   "source": "## Augmentation Function",
   "id": "918515bf68cf47df"
  },
  {
   "cell_type": "code",
   "id": "21f2e2c4-b4fb-4954-b262-657ee3a0ad00",
   "metadata": {},
   "source": [
    "def generate(id1, id2, from_pth=\"./data/train\", to_pth=\"./data/train_augmented\", filename=None, sample_rate=32000, channel_size=1):\n",
    "    # Load Audio Files\n",
    "    if \"NONE_\" not in id1:\n",
    "        waveform1, sample_rate1 = torchaudio.load(from_pth + \"/\" + id1 + \".ogg\")\n",
    "    else:\n",
    "        waveform1, sample_rate1 = torch.zeors((channel_size, 44000)), sample_rate\n",
    "    if \"NONE_\" not in id2:\n",
    "        waveform2, sample_rate2 = torchaudio.load(from_pth + \"/\" + id2 + \".ogg\")\n",
    "    else:\n",
    "        waveform2, sample_rate2 = torch.zeros((channel_size, 44000)), sample_rate\n",
    "    \n",
    "    if sample_rate1 != sample_rate or sample_rate2 != sample_rate:\n",
    "        raise ValueError(\"Sampling rate does not match.\")\n",
    "    \n",
    "    waveform_size = max(waveform1.size(1), waveform2.size(1))\n",
    "    \n",
    "    # Extend waveform size\n",
    "    waveform1 = torch.nn.functional.pad(waveform1, (0, waveform_size - waveform1.size(1)))\n",
    "    waveform2 = torch.nn.functional.pad(waveform2, (0, waveform_size - waveform2.size(1)))\n",
    "    \n",
    "    # Create Random White Noise\n",
    "    noise = torch.zeros((channel_size, 0))\n",
    "    while noise.size(1) < waveform_size:\n",
    "        partition = torch.randn((channel_size, random.randint(1, waveform_size//5)))\n",
    "        if random.choice([True, False]):\n",
    "            partition *= random.uniform(0, 0.1)  # select noise volume\n",
    "        else:  # remove noise\n",
    "            partition *= 0\n",
    "        noise = torch.cat((noise, partition), dim=1)\n",
    "    noise = noise[:, :waveform_size]\n",
    "    \n",
    "    # Combine Waveforms\n",
    "    waveform_noise = waveform1 + waveform2 + noise\n",
    "    \n",
    "    # Save Augmented Audio\n",
    "    if filename is None:\n",
    "        filename = id1 + \"-\" + id2\n",
    "    filepath = to_pth + \"/\" + filename + \".ogg\"\n",
    "    torchaudio.save(filepath, waveform_noise, sample_rate)\n",
    "    return filepath"
   ],
   "outputs": [],
   "execution_count": null
  },
  {
   "metadata": {},
   "cell_type": "markdown",
   "source": "### Augmentation 1: Add Noise to Waveforms",
   "id": "b268370e1b966124"
  },
  {
   "metadata": {},
   "cell_type": "code",
   "source": [
    "for count in range(3):\n",
    "    target_dir = f\"./data/train_noise_type{count+1}\"\n",
    "    if not os.path.isdir(target_dir):\n",
    "        os.mkdir(target_dir)\n",
    "\n",
    "    df = pd.read_csv(\"./data/train.csv\")\n",
    "\n",
    "    for i in tqdm(range(len(df))):\n",
    "        df['path'][i] = generate(df['id'][i], \"NONE_\", from_pth=\"./data/train\", to_pth=target_dir, filename=df['id'][i]).replace(\"./data\", \".\")\n",
    "    \n",
    "    df.to_csv(target_dir + \".csv\", index=False)"
   ],
   "id": "65d73cc8a175eae3",
   "outputs": [],
   "execution_count": null
  },
  {
   "metadata": {},
   "cell_type": "code",
   "source": "",
   "id": "fbb40d8a6e6eb3b2",
   "outputs": [],
   "execution_count": null
  },
  {
   "metadata": {},
   "cell_type": "code",
   "source": "",
   "id": "bfd98cbc2b7e2031",
   "outputs": [],
   "execution_count": null
  },
  {
   "metadata": {},
   "cell_type": "code",
   "source": [
    "if not os.path.isdir(\"./data/train_augmented\"):\n",
    "    os.mkdir(\"./data/train_augmented\")"
   ],
   "id": "c8ca06941c5da8bd",
   "outputs": [],
   "execution_count": null
  },
  {
   "metadata": {},
   "cell_type": "code",
   "source": "",
   "id": "447445b9bf007074",
   "outputs": [],
   "execution_count": null
  }
 ],
 "metadata": {
  "kernelspec": {
   "display_name": "Python 3 (ipykernel)",
   "language": "python",
   "name": "python3"
  },
  "language_info": {
   "codemirror_mode": {
    "name": "ipython",
    "version": 3
   },
   "file_extension": ".py",
   "mimetype": "text/x-python",
   "name": "python",
   "nbconvert_exporter": "python",
   "pygments_lexer": "ipython3",
   "version": "3.11.7"
  }
 },
 "nbformat": 4,
 "nbformat_minor": 5
}
