{
 "cells": [
  {
   "metadata": {},
   "cell_type": "markdown",
   "source": "# Train Dataset Augmentation",
   "id": "17479b24b912ec80"
  },
  {
   "metadata": {},
   "cell_type": "markdown",
   "source": "## Import",
   "id": "7779ace43ca885ba"
  },
  {
   "cell_type": "code",
   "id": "initial_id",
   "metadata": {},
   "source": [
    "import os\n",
    "\n",
    "import random\n",
    "\n",
    "import librosa\n",
    "import soundfile\n",
    "\n",
    "import torch\n",
    "import torchaudio\n",
    "\n",
    "from IPython.display import Audio\n",
    "\n",
    "import pandas as pd\n",
    "from tqdm.notebook import tqdm"
   ],
   "outputs": [],
   "execution_count": null
  },
  {
   "metadata": {},
   "cell_type": "markdown",
   "source": "## Load Data",
   "id": "a097f4de4d8bc719"
  },
  {
   "cell_type": "code",
   "id": "23949a9e89b11885",
   "metadata": {},
   "source": [
    "df = pd.read_csv(\"./data/train.csv\")"
   ],
   "outputs": [],
   "execution_count": null
  },
  {
   "cell_type": "code",
   "id": "539a8ab4-0a83-4450-890b-58f618e3cce4",
   "metadata": {},
   "source": [
    "df['id']"
   ],
   "outputs": [],
   "execution_count": null
  },
  {
   "cell_type": "code",
   "id": "e65c6c9c-4b63-422c-8bed-3e8d5bcaff1c",
   "metadata": {},
   "source": [
    "df['label']"
   ],
   "outputs": [],
   "execution_count": null
  },
  {
   "metadata": {},
   "cell_type": "markdown",
   "source": "## Augmentation Function",
   "id": "918515bf68cf47df"
  },
  {
   "cell_type": "code",
   "id": "21f2e2c4-b4fb-4954-b262-657ee3a0ad00",
   "metadata": {},
   "source": [
    "def generate(id1, id2, from_pth=\"./data/train\", to_pth=\"./data/train_augmented\", filename=None, sample_rate=32000, channel_size=1):\n",
    "    # Load Audio Files\n",
    "    if \"NONE_\" not in id1:\n",
    "        waveform1, sample_rate1 = torchaudio.load(from_pth + \"/\" + id1 + \".ogg\")\n",
    "    else:\n",
    "        waveform1, sample_rate1 = torch.zeors((channel_size, 44000)), sample_rate\n",
    "    if \"NONE_\" not in id2:\n",
    "        waveform2, sample_rate2 = torchaudio.load(from_pth + \"/\" + id2 + \".ogg\")\n",
    "    else:\n",
    "        waveform2, sample_rate2 = torch.zeros((channel_size, 44000)), sample_rate\n",
    "    \n",
    "    if sample_rate1 != sample_rate or sample_rate2 != sample_rate:\n",
    "        raise ValueError(\"Sampling rate does not match.\")\n",
    "    \n",
    "    waveform_size = max(waveform1.size(1), waveform2.size(1))\n",
    "    \n",
    "    # Extend waveform size\n",
    "    waveform1 = torch.nn.functional.pad(waveform1, (0, waveform_size - waveform1.size(1)))\n",
    "    waveform2 = torch.nn.functional.pad(waveform2, (0, waveform_size - waveform2.size(1)))\n",
    "    \n",
    "    # Create Random White Noise\n",
    "    noise = torch.zeros((channel_size, 0))\n",
    "    while noise.size(1) < waveform_size:\n",
    "        partition = torch.randn((channel_size, random.randint(1, waveform_size//5)))\n",
    "        if random.choice([True, False, False]):\n",
    "            partition *= random.uniform(0, 0.1)  # select noise volume\n",
    "        else:  # remove noise\n",
    "            partition *= 0\n",
    "        noise = torch.cat((noise, partition), dim=1)\n",
    "    noise = noise[:, :waveform_size]\n",
    "    \n",
    "    # Combine Waveforms\n",
    "    waveform_noise = waveform1 + waveform2 + noise\n",
    "    \n",
    "    # Save Augmented Audio\n",
    "    if filename is None:\n",
    "        filename = id1 + \"-\" + id2\n",
    "    filepath = to_pth + \"/\" + filename + \".ogg\"\n",
    "    torchaudio.save(filepath, waveform_noise, sample_rate)\n",
    "    return filepath"
   ],
   "outputs": [],
   "execution_count": null
  },
  {
   "metadata": {},
   "cell_type": "markdown",
   "source": "### Augmentation 1: Add Noise to Waveforms",
   "id": "b268370e1b966124"
  },
  {
   "metadata": {},
   "cell_type": "code",
   "source": [
    "for count in range(3):\n",
    "    target_dir = f\"./data/train_noise_type{count+1}\"\n",
    "    if not os.path.isdir(target_dir):\n",
    "        os.mkdir(target_dir)\n",
    "\n",
    "    df = pd.read_csv(\"./data/train.csv\")\n",
    "\n",
    "    for i in tqdm(range(len(df))):\n",
    "        df['path'][i] = generate(df['id'][i], \"NONE_\", from_pth=\"./data/train\", to_pth=target_dir, filename=df['id'][i]).replace(\"./data\", \".\")\n",
    "    \n",
    "    df.to_csv(target_dir + \".csv\", index=False)"
   ],
   "id": "65d73cc8a175eae3",
   "outputs": [],
   "execution_count": null
  },
  {
   "metadata": {},
   "cell_type": "markdown",
   "source": "## Augmentation 2: Combine Waveforms",
   "id": "4d344f5b6f65c7ef"
  },
  {
   "metadata": {},
   "cell_type": "code",
   "source": [
    "if not os.path.isdir(\"./data/train_augmented\"):\n",
    "    os.mkdir(\"./data/train_augmented\")"
   ],
   "id": "c8ca06941c5da8bd",
   "outputs": [],
   "execution_count": null
  },
  {
   "metadata": {},
   "cell_type": "code",
   "source": "df = pd.read_csv(\"./data/train.csv\")",
   "id": "f91a3265fe643348",
   "outputs": [],
   "execution_count": null
  },
  {
   "metadata": {},
   "cell_type": "code",
   "source": [
    "fakes = df[df['label'] == 'fake']\n",
    "fakes"
   ],
   "id": "13c0a2183503d247",
   "outputs": [],
   "execution_count": null
  },
  {
   "metadata": {},
   "cell_type": "code",
   "source": [
    "reals = df[df['label'] == 'real']\n",
    "reals"
   ],
   "id": "283c317989419df4",
   "outputs": [],
   "execution_count": null
  },
  {
   "metadata": {},
   "cell_type": "code",
   "source": "next(iter(fakes.itertuples()))",
   "id": "530a5e2f239ca665",
   "outputs": [],
   "execution_count": null
  },
  {
   "metadata": {},
   "cell_type": "code",
   "source": [
    "from sklearn.utils import shuffle\n",
    "shuffle(fakes)"
   ],
   "id": "6db3396815991610",
   "outputs": [],
   "execution_count": null
  },
  {
   "metadata": {},
   "cell_type": "code",
   "source": "next(iter(shuffle(fakes).itertuples()))",
   "id": "d128755a60a6c46b",
   "outputs": [],
   "execution_count": null
  },
  {
   "metadata": {},
   "cell_type": "code",
   "source": "labels = dict(id=[], path=[], fake=[], real=[])",
   "id": "fbb40d8a6e6eb3b2",
   "outputs": [],
   "execution_count": null
  },
  {
   "metadata": {},
   "cell_type": "markdown",
   "source": "#### Real + Real [0, 1]",
   "id": "db984aa55126748e"
  },
  {
   "metadata": {},
   "cell_type": "code",
   "source": [
    "reals1 = shuffle(reals).itertuples()\n",
    "reals2 = shuffle(reals).itertuples()\n",
    "\n",
    "for _, r1, r2 in zip(tqdm(range(len(reals))), reals1, reals2):\n",
    "    new_pth = generate(r1[1], r2[1], from_pth=\"./data/train\", to_pth=\"./data/train_augmented\").replace(\"./data\", \".\")\n",
    "    labels['id'].append(r1[1] + \"-\" + r2[1])\n",
    "    labels['path'].append(new_pth)\n",
    "    labels['fake'].append(0)\n",
    "    labels['real'].append(1)"
   ],
   "id": "a7805c8babefaf8f",
   "outputs": [],
   "execution_count": null
  },
  {
   "metadata": {},
   "cell_type": "code",
   "source": "pd.DataFrame(labels)",
   "id": "c564e1ed316f830a",
   "outputs": [],
   "execution_count": null
  },
  {
   "metadata": {},
   "cell_type": "markdown",
   "source": "#### Fake + Fake [1, 0]",
   "id": "7666808948adbe83"
  },
  {
   "metadata": {},
   "cell_type": "code",
   "source": [
    "fakes1 = shuffle(fakes).itertuples()\n",
    "fakes2 = shuffle(fakes).itertuples()\n",
    "\n",
    "for _, f1, f2 in zip(tqdm(range(len(reals))), fakes1, fakes2):\n",
    "    new_pth = generate(f1[1], f2[1], from_pth=\"./data/train\", to_pth=\"./data/train_augmented\").replace(\"./data\", \".\")\n",
    "    labels['id'].append(f1[1] + \"-\" + f2[1])\n",
    "    labels['path'].append(new_pth)\n",
    "    labels['fake'].append(1)\n",
    "    labels['real'].append(0)"
   ],
   "id": "bbeaa837a6d552b0",
   "outputs": [],
   "execution_count": null
  },
  {
   "metadata": {},
   "cell_type": "code",
   "source": "pd.DataFrame(labels)",
   "id": "96ad55cf05f707ae",
   "outputs": [],
   "execution_count": null
  },
  {
   "metadata": {},
   "cell_type": "markdown",
   "source": "#### Real + Fake [1, 1]",
   "id": "ef8333e40849d08e"
  },
  {
   "metadata": {},
   "cell_type": "code",
   "source": [
    "for _ in range(2):\n",
    "    reals1 = shuffle(reals).itertuples()\n",
    "    fakes2 = shuffle(fakes).itertuples()\n",
    "    \n",
    "    for _, r1, f2 in zip(tqdm(range(len(reals))), reals1, fakes2):\n",
    "        new_pth = generate(r1[1], f2[1], from_pth=\"./data/train\", to_pth=\"./data/train_augmented\").replace(\"./data\", \".\")\n",
    "        labels['id'].append(r1[1] + \"-\" + f2[1])\n",
    "        labels['path'].append(new_pth)\n",
    "        labels['fake'].append(1)\n",
    "        labels['real'].append(1)"
   ],
   "id": "81449b640660e2d6",
   "outputs": [],
   "execution_count": null
  },
  {
   "metadata": {},
   "cell_type": "code",
   "source": "pd.DataFrame(labels)",
   "id": "5385c139ddcb5bd5",
   "outputs": [],
   "execution_count": null
  },
  {
   "metadata": {},
   "cell_type": "markdown",
   "source": "#### None + None [0, 0]",
   "id": "bcd9a144c5dec23e"
  },
  {
   "metadata": {},
   "cell_type": "code",
   "source": [
    "for i in tqdm(range(1000)):\n",
    "    new_id = f\"NONE-NONE{i}\"\n",
    "    new_pth = generate(\"NONE_\", \"NONE_\", from_pth=\"./data/train\", to_pth=\"./data/train_augmented\", filename=new_id).replace(\"./data\", \".\")\n",
    "    labels['id'].append(new_id)\n",
    "    labels['path'].append(new_pth)\n",
    "    labels['fake'].append(0)\n",
    "    labels['real'].append(0)"
   ],
   "id": "bfd98cbc2b7e2031",
   "outputs": [],
   "execution_count": null
  },
  {
   "metadata": {},
   "cell_type": "code",
   "source": "pd.DataFrame(labels).to_csv(f\"./data/train_augmented.csv\", index=False)",
   "id": "447445b9bf007074",
   "outputs": [],
   "execution_count": null
  }
 ],
 "metadata": {
  "kernelspec": {
   "display_name": "Python 3 (ipykernel)",
   "language": "python",
   "name": "python3"
  },
  "language_info": {
   "codemirror_mode": {
    "name": "ipython",
    "version": 3
   },
   "file_extension": ".py",
   "mimetype": "text/x-python",
   "name": "python",
   "nbconvert_exporter": "python",
   "pygments_lexer": "ipython3",
   "version": "3.11.7"
  }
 },
 "nbformat": 4,
 "nbformat_minor": 5
}
