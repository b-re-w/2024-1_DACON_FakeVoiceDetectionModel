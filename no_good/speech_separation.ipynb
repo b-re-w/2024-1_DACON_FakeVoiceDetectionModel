{
 "cells": [
  {
   "cell_type": "code",
   "id": "129e2e36",
   "metadata": {},
   "source": [
    "%%capture\n",
    "!pip install speechbrain\n",
    "!pip install transformers"
   ],
   "outputs": [],
   "execution_count": null
  },
  {
   "cell_type": "code",
   "id": "459e3a33",
   "metadata": {
    "ExecuteTime": {
     "end_time": "2024-07-04T08:05:22.535126Z",
     "start_time": "2024-07-04T08:05:15.057294Z"
    }
   },
   "source": [
    "import os\n",
    "\n",
    "import librosa\n",
    "import soundfile\n",
    "import torchaudio\n",
    "from speechbrain.inference.VAD import VAD\n",
    "from speechbrain.dataio.dataio import read_audio\n",
    "from speechbrain.inference.separation import SepformerSeparation as separator\n",
    "\n",
    "from IPython.display import Audio\n",
    "\n",
    "import pandas as pd\n",
    "from tqdm import tqdm"
   ],
   "outputs": [],
   "execution_count": 1
  },
  {
   "cell_type": "code",
   "id": "d1d2e38c-26e3-4052-a68a-17c353dab7b9",
   "metadata": {
    "ExecuteTime": {
     "end_time": "2024-07-04T08:05:24.668255Z",
     "start_time": "2024-07-04T08:05:22.537465Z"
    }
   },
   "source": [
    "VAD = VAD.from_hparams(source=\"speechbrain/vad-crdnn-libriparty\", savedir='./.cache/vad-crdnn-libriparty', run_opts={\"device\":\"cuda\"})\n",
    "model = separator.from_hparams(source=\"speechbrain/sepformer-libri2mix\", savedir='./.cache/sepformer-libri2mix', run_opts={\"device\":\"cuda\"})"
   ],
   "outputs": [],
   "execution_count": 2
  },
  {
   "cell_type": "code",
   "id": "88620cd0",
   "metadata": {},
   "source": [
    "est_sources = model.separate_file(path='speechbrain/sepformer-wsj02mix/test_mixture.wav')\n",
    "est_sources.shape"
   ],
   "outputs": [],
   "execution_count": null
  },
  {
   "cell_type": "code",
   "id": "2effffaf-bb6e-4d41-8f49-e222ef85e92b",
   "metadata": {},
   "source": [
    "Audio(\"./audio_cache/test_mixture.wav\", rate=8000)"
   ],
   "outputs": [],
   "execution_count": null
  },
  {
   "cell_type": "code",
   "id": "9b6b34af",
   "metadata": {},
   "source": [
    "signal = read_audio(\"./audio_cache/test_mixture.wav\").squeeze()\n",
    "Audio(signal, rate=8000)"
   ],
   "outputs": [],
   "execution_count": null
  },
  {
   "cell_type": "code",
   "id": "9b12fb6316abd88d",
   "metadata": {},
   "source": [
    "est_sources.shape"
   ],
   "outputs": [],
   "execution_count": null
  },
  {
   "cell_type": "code",
   "id": "39f19afe",
   "metadata": {},
   "source": [
    "Audio(est_sources[:, :, 0].detach().cpu().squeeze(), rate=8000)"
   ],
   "outputs": [],
   "execution_count": null
  },
  {
   "cell_type": "code",
   "id": "dec85f65",
   "metadata": {},
   "source": [
    "Audio(est_sources[:, :, 1].detach().cpu().squeeze(), rate=8000)"
   ],
   "outputs": [],
   "execution_count": null
  },
  {
   "cell_type": "code",
   "id": "759eb92c-052e-4cd4-b88c-6103242450cc",
   "metadata": {},
   "source": [
    "est_sources[:, :, 0]"
   ],
   "outputs": [],
   "execution_count": null
  },
  {
   "cell_type": "code",
   "id": "d9fefc86-2829-4f91-9afe-263f9adb024b",
   "metadata": {
    "ExecuteTime": {
     "end_time": "2024-07-04T08:10:01.746735Z",
     "start_time": "2024-07-04T08:10:01.704900Z"
    }
   },
   "source": [
    "df = pd.read_csv(\"./data/test.csv\")"
   ],
   "outputs": [],
   "execution_count": 4
  },
  {
   "cell_type": "code",
   "id": "3f1df92a-f63d-441f-9a6e-4b61b610bc60",
   "metadata": {
    "ExecuteTime": {
     "end_time": "2024-07-04T08:10:02.147246Z",
     "start_time": "2024-07-04T08:10:02.135065Z"
    }
   },
   "source": [
    "df"
   ],
   "outputs": [
    {
     "data": {
      "text/plain": [
       "               id                   path\n",
       "0      TEST_00000  ./test/TEST_00000.ogg\n",
       "1      TEST_00001  ./test/TEST_00001.ogg\n",
       "2      TEST_00002  ./test/TEST_00002.ogg\n",
       "3      TEST_00003  ./test/TEST_00003.ogg\n",
       "4      TEST_00004  ./test/TEST_00004.ogg\n",
       "...           ...                    ...\n",
       "49995  TEST_49995  ./test/TEST_49995.ogg\n",
       "49996  TEST_49996  ./test/TEST_49996.ogg\n",
       "49997  TEST_49997  ./test/TEST_49997.ogg\n",
       "49998  TEST_49998  ./test/TEST_49998.ogg\n",
       "49999  TEST_49999  ./test/TEST_49999.ogg\n",
       "\n",
       "[50000 rows x 2 columns]"
      ],
      "text/html": [
       "<div>\n",
       "<style scoped>\n",
       "    .dataframe tbody tr th:only-of-type {\n",
       "        vertical-align: middle;\n",
       "    }\n",
       "\n",
       "    .dataframe tbody tr th {\n",
       "        vertical-align: top;\n",
       "    }\n",
       "\n",
       "    .dataframe thead th {\n",
       "        text-align: right;\n",
       "    }\n",
       "</style>\n",
       "<table border=\"1\" class=\"dataframe\">\n",
       "  <thead>\n",
       "    <tr style=\"text-align: right;\">\n",
       "      <th></th>\n",
       "      <th>id</th>\n",
       "      <th>path</th>\n",
       "    </tr>\n",
       "  </thead>\n",
       "  <tbody>\n",
       "    <tr>\n",
       "      <th>0</th>\n",
       "      <td>TEST_00000</td>\n",
       "      <td>./test/TEST_00000.ogg</td>\n",
       "    </tr>\n",
       "    <tr>\n",
       "      <th>1</th>\n",
       "      <td>TEST_00001</td>\n",
       "      <td>./test/TEST_00001.ogg</td>\n",
       "    </tr>\n",
       "    <tr>\n",
       "      <th>2</th>\n",
       "      <td>TEST_00002</td>\n",
       "      <td>./test/TEST_00002.ogg</td>\n",
       "    </tr>\n",
       "    <tr>\n",
       "      <th>3</th>\n",
       "      <td>TEST_00003</td>\n",
       "      <td>./test/TEST_00003.ogg</td>\n",
       "    </tr>\n",
       "    <tr>\n",
       "      <th>4</th>\n",
       "      <td>TEST_00004</td>\n",
       "      <td>./test/TEST_00004.ogg</td>\n",
       "    </tr>\n",
       "    <tr>\n",
       "      <th>...</th>\n",
       "      <td>...</td>\n",
       "      <td>...</td>\n",
       "    </tr>\n",
       "    <tr>\n",
       "      <th>49995</th>\n",
       "      <td>TEST_49995</td>\n",
       "      <td>./test/TEST_49995.ogg</td>\n",
       "    </tr>\n",
       "    <tr>\n",
       "      <th>49996</th>\n",
       "      <td>TEST_49996</td>\n",
       "      <td>./test/TEST_49996.ogg</td>\n",
       "    </tr>\n",
       "    <tr>\n",
       "      <th>49997</th>\n",
       "      <td>TEST_49997</td>\n",
       "      <td>./test/TEST_49997.ogg</td>\n",
       "    </tr>\n",
       "    <tr>\n",
       "      <th>49998</th>\n",
       "      <td>TEST_49998</td>\n",
       "      <td>./test/TEST_49998.ogg</td>\n",
       "    </tr>\n",
       "    <tr>\n",
       "      <th>49999</th>\n",
       "      <td>TEST_49999</td>\n",
       "      <td>./test/TEST_49999.ogg</td>\n",
       "    </tr>\n",
       "  </tbody>\n",
       "</table>\n",
       "<p>50000 rows × 2 columns</p>\n",
       "</div>"
      ]
     },
     "execution_count": 5,
     "metadata": {},
     "output_type": "execute_result"
    }
   ],
   "execution_count": 5
  },
  {
   "cell_type": "code",
   "id": "f65f2fcd-8c61-4ff3-ae40-a2e841e0fc73",
   "metadata": {
    "ExecuteTime": {
     "end_time": "2024-07-04T08:10:02.571809Z",
     "start_time": "2024-07-04T08:10:02.566814Z"
    }
   },
   "source": [
    "df['id']"
   ],
   "outputs": [
    {
     "data": {
      "text/plain": [
       "0        TEST_00000\n",
       "1        TEST_00001\n",
       "2        TEST_00002\n",
       "3        TEST_00003\n",
       "4        TEST_00004\n",
       "            ...    \n",
       "49995    TEST_49995\n",
       "49996    TEST_49996\n",
       "49997    TEST_49997\n",
       "49998    TEST_49998\n",
       "49999    TEST_49999\n",
       "Name: id, Length: 50000, dtype: object"
      ]
     },
     "execution_count": 6,
     "metadata": {},
     "output_type": "execute_result"
    }
   ],
   "execution_count": 6
  },
  {
   "cell_type": "code",
   "id": "8ee100c1-8ce0-43a1-8e5f-ef11fe83899f",
   "metadata": {},
   "source": [
    "if not os.path.isdir(\"./data/test_separated\"):\n",
    "    os.mkdir(\"./data/test_separated\")"
   ],
   "outputs": [],
   "execution_count": null
  },
  {
   "metadata": {},
   "cell_type": "code",
   "source": [
    "def save_audio(tensor, file_path):\n",
    "    cache = \"./audio_cache/temp.wav\"\n",
    "\n",
    "    # save tensor\n",
    "    torchaudio.save(cache, tensor.detach().cpu(), 8000)\n",
    "\n",
    "    # resampling - actual file\n",
    "    y, sr = librosa.load(cache, sr=8000)\n",
    "    y_resampled = librosa.resample(y, orig_sr=8000, target_sr=32000)\n",
    "    soundfile.write(file_path, y_resampled, 32000, format=\"ogg\")\n",
    "\n",
    "    # resampling - temporary file\n",
    "    y, sr = librosa.load(cache, sr=8000)\n",
    "    y_resampled = librosa.resample(y, orig_sr=8000, target_sr=16000)\n",
    "    soundfile.write(file_path.replace(\"ogg\", \"16hz.ogg\"), y_resampled, 16000, format=\"ogg\")\n",
    "\n",
    "    # extract label\n",
    "    boundaries = VAD.get_speech_segments(file_path.replace(\"ogg\", \"16hz.ogg\"), activation_th=0.4)\n",
    "    label = \"noise\"\n",
    "    last_end = 0\n",
    "    for i in range(boundaries.shape[0]):\n",
    "        begin_value = boundaries[i, 0]\n",
    "        end_value = boundaries[i, 1]\n",
    "        if last_end == begin_value:\n",
    "            label = \"speech\"\n",
    "        last_end = end_value\n",
    "\n",
    "    return file_path, label"
   ],
   "id": "edbfa8f09ec9fb86",
   "outputs": [],
   "execution_count": null
  },
  {
   "cell_type": "code",
   "id": "f3f55371-1401-4962-b05b-e30ce506a2f5",
   "metadata": {
    "jupyter": {
     "is_executing": true
    }
   },
   "source": [
    "labels = dict(id=[], path0=[], path1=[], label0=[], label1=[])\n",
    "\n",
    "iterator = iter(tqdm(df['id']))\n",
    "\n",
    "for i in zip(range(0), iterator):\n",
    "    pass\n",
    "\n",
    "for _id in iterator:\n",
    "    est_sources = model.separate_file(path=f\"./data/test/{_id}.ogg\")\n",
    "    \n",
    "    if not os.path.isdir(f\"./data/test_separated/{_id}/\"):\n",
    "        os.mkdir(f\"./data/test_separated/{_id}/\")\n",
    "    \n",
    "    labels['id'].append(_id)\n",
    "    \n",
    "    file0_path = f\"./data/test_separated/{_id}/0.ogg\"\n",
    "    path0, label0 = save_audio(est_sources[:, :, 0], file0_path)\n",
    "    labels['path0'].append(f\"./test_separated/{_id}/0.ogg\")\n",
    "    labels['label0'].append(label0)\n",
    "    print(\"Audio extracted successfully -\", path0, label0)\n",
    "\n",
    "    file1_path = f\"./data/test_separated/{_id}/1.ogg\"\n",
    "    path1, label1 = save_audio(est_sources[:, :, 1], file1_path)\n",
    "    labels['path1'].append(f\"./test_separated/{_id}/1.ogg\")\n",
    "    labels['label1'].append(label1)\n",
    "    print(\"Audio extracted successfully -\", path1, label1)\n",
    "\n",
    "pd.DataFrame(labels).to_csv(f\"./data/test_separated.csv\", index=False)"
   ],
   "outputs": [],
   "execution_count": null
  },
  {
   "metadata": {},
   "cell_type": "code",
   "outputs": [],
   "execution_count": null,
   "source": "",
   "id": "51ae2159bc1f9ef"
  }
 ],
 "metadata": {
  "kernelspec": {
   "display_name": "Python 3 (ipykernel)",
   "language": "python",
   "name": "python3"
  },
  "language_info": {
   "codemirror_mode": {
    "name": "ipython",
    "version": 3
   },
   "file_extension": ".py",
   "mimetype": "text/x-python",
   "name": "python",
   "nbconvert_exporter": "python",
   "pygments_lexer": "ipython3",
   "version": "3.11.7"
  }
 },
 "nbformat": 4,
 "nbformat_minor": 5
}
