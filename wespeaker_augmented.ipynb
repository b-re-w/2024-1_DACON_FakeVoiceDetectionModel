{
 "cells": [
  {
   "cell_type": "markdown",
   "id": "840dc88f7c14e1fa",
   "metadata": {},
   "source": [
    "# SW중심대학 디지털 경진대회_SW와 생성AI의 만남 : AI부문\n",
    " - 이 AI 경진대회에서는 5초 분량의 오디오 샘플에서 진짜 사람 목소리와 AI가 생성한 가짜 목소리를 정확하게 구분할 수 있는 모델을 개발하는 것이 목표입니다.\n",
    " - 이 작업은 보안, 사기 감지 및 오디오 처리 기술 향상 등 다양한 분야에서 매우 중요합니다."
   ]
  },
  {
   "cell_type": "markdown",
   "id": "361d73a1",
   "metadata": {
    "papermill": {
     "duration": 0.007011,
     "end_time": "2024-04-08T18:51:47.130888",
     "exception": false,
     "start_time": "2024-04-08T18:51:47.123877",
     "status": "completed"
    },
    "tags": []
   },
   "source": [
    "## Imports\n",
    "모델 학습 및 추론에 사용할 라이브러리들을 불러옵니다."
   ]
  },
  {
   "cell_type": "code",
   "id": "bbadbd56",
   "metadata": {
    "papermill": {
     "duration": 12.650384,
     "end_time": "2024-04-08T18:51:59.788340",
     "exception": false,
     "start_time": "2024-04-08T18:51:47.137956",
     "status": "completed"
    },
    "tags": [],
    "ExecuteTime": {
     "end_time": "2024-07-13T08:04:34.789754Z",
     "start_time": "2024-07-13T08:04:32.082758Z"
    }
   },
   "source": [
    "import os\n",
    "import random\n",
    "\n",
    "import torch\n",
    "import torchaudio\n",
    "\n",
    "import numpy as np\n",
    "import pandas as pd\n",
    "\n",
    "from torch import nn\n",
    "import torch.nn.functional as F\n",
    "import torchaudio.transforms as T\n",
    "from torch.utils.data import Dataset, DataLoader\n",
    "\n",
    "from tqdm.notebook import tqdm"
   ],
   "outputs": [],
   "execution_count": 1
  },
  {
   "metadata": {},
   "cell_type": "markdown",
   "source": "### Check GPU Availability",
   "id": "c41377d36410af6b"
  },
  {
   "cell_type": "code",
   "id": "4dc82cbe",
   "metadata": {
    "ExecuteTime": {
     "end_time": "2024-07-13T08:04:34.939074Z",
     "start_time": "2024-07-13T08:04:34.790762Z"
    }
   },
   "source": [
    "!nvidia-smi"
   ],
   "outputs": [
    {
     "name": "stdout",
     "output_type": "stream",
     "text": [
      "Sat Jul 13 17:04:34 2024       \n",
      "+---------------------------------------------------------------------------------------+\n",
      "| NVIDIA-SMI 546.56                 Driver Version: 546.56       CUDA Version: 12.3     |\n",
      "|-----------------------------------------+----------------------+----------------------+\n",
      "| GPU  Name                     TCC/WDDM  | Bus-Id        Disp.A | Volatile Uncorr. ECC |\n",
      "| Fan  Temp   Perf          Pwr:Usage/Cap |         Memory-Usage | GPU-Util  Compute M. |\n",
      "|                                         |                      |               MIG M. |\n",
      "|=========================================+======================+======================|\n",
      "|   0  NVIDIA GeForce RTX 4050 ...  WDDM  | 00000000:01:00.0 Off |                  N/A |\n",
      "| N/A   47C    P8               1W /  78W |      0MiB /  6141MiB |      0%      Default |\n",
      "|                                         |                      |                  N/A |\n",
      "+-----------------------------------------+----------------------+----------------------+\n",
      "                                                                                         \n",
      "+---------------------------------------------------------------------------------------+\n",
      "| Processes:                                                                            |\n",
      "|  GPU   GI   CI        PID   Type   Process name                            GPU Memory |\n",
      "|        ID   ID                                                             Usage      |\n",
      "|=======================================================================================|\n",
      "|  No running processes found                                                           |\n",
      "+---------------------------------------------------------------------------------------+\n"
     ]
    }
   ],
   "execution_count": 2
  },
  {
   "metadata": {
    "ExecuteTime": {
     "end_time": "2024-07-13T08:04:34.964993Z",
     "start_time": "2024-07-13T08:04:34.940224Z"
    }
   },
   "cell_type": "code",
   "source": [
    "# Set CUDA Device Number 0~7\n",
    "DEVICE_NUM = 0\n",
    "\n",
    "device = torch.device(\"cpu\")\n",
    "if torch.cuda.is_available():\n",
    "    torch.cuda.set_device(DEVICE_NUM)\n",
    "    device = torch.device(\"cuda\")\n",
    "print(\"INFO: Using device -\", device)"
   ],
   "id": "f64eb379-e527-46c4-8b12-ead8db628070",
   "outputs": [
    {
     "name": "stdout",
     "output_type": "stream",
     "text": [
      "INFO: Using device - cuda\n"
     ]
    }
   ],
   "execution_count": 3
  },
  {
   "cell_type": "markdown",
   "id": "a0d2de5d",
   "metadata": {
    "papermill": {
     "duration": 0.007241,
     "end_time": "2024-04-08T18:51:59.803571",
     "exception": false,
     "start_time": "2024-04-08T18:51:59.796330",
     "status": "completed"
    },
    "tags": []
   },
   "source": [
    "## Config\n",
    "- 딥러닝 모델을 학습하기 전에 설정해야하는 다양한 매개변수를 정의하는 설정 클래스입니다.\n",
    "- 클래스를 사용하여 학습에 필요한 설정 값을 미리 지정합니다.\n",
    "\n",
    "##### 오디오 신호\n",
    "- 우리가 듣는 소리는 공기의 압력 변화로, 이것을 디지털 신호로 변환한 것이 오디오 신호입니다.\n",
    "- 이 신호는 시간에 따라 변하는 진폭 값을 가지고 있습니다."
   ]
  },
  {
   "cell_type": "code",
   "id": "1a32fb60",
   "metadata": {
    "papermill": {
     "duration": 0.016983,
     "end_time": "2024-04-08T18:51:59.828208",
     "exception": false,
     "start_time": "2024-04-08T18:51:59.811225",
     "status": "completed"
    },
    "tags": [],
    "ExecuteTime": {
     "end_time": "2024-07-13T08:04:34.970702Z",
     "start_time": "2024-07-13T08:04:34.966Z"
    }
   },
   "source": [
    "class Config:\n",
    "    \"\"\" Configuration Class \"\"\"\n",
    "    SEED = 20240719  # 재현성을 위해 랜덤 시드 고정\n",
    "    NB_NAME = \"wespeaker_augmented\"  # ipython 노트북 이름 지정\n",
    "    \n",
    "    \"\"\" SR(Sample Rate)\n",
    "    - 오디오 데이터의 샘플링 레이트를 설정합니다.\n",
    "    - 높은 샘플링 레이트는 더 높은 주파수의 소리를 캡처할 수 있지만, 처리에 더 많은 계산 자원이 필요합니다.\n",
    "    - 오디오 데이터의 초당 샘플 수를 정의합니다.\n",
    "    \"\"\"\n",
    "    SR = 32000\n",
    "\n",
    "    \"\"\" ROOT_FOLDER\n",
    "    - 데이터셋의 루트 폴더 경로를 설정합니다.\n",
    "    \"\"\"\n",
    "    ROOT_FOLDER = os.path.join(\".\", \"data\")\n",
    "    \n",
    "    \"\"\" BATCH_SIZE\n",
    "    - 학습 시 한 번에 처리할 데이터 샘플의 수를 정의합니다\n",
    "    - 큰 배치 크기는 메모리 사용량을 증가시키지만, 학습 속도를 높입니다.\n",
    "    \"\"\"\n",
    "    BATCH_SIZE = 100\n",
    "    \n",
    "    \"\"\" N_EPOCHS\n",
    "    - 전체 데이터셋을 학습할 횟수를 정의합니다.\n",
    "    - 에폭 수가 너무 적으면 과소적합이 발생할 수 있고, 너무 많으면 과적합이 발생할 수 있습니다.\n",
    "    \"\"\"\n",
    "    N_EPOCHS = 15\n",
    "    \n",
    "    \"\"\" LR (Learning Rate)\n",
    "    - 모델의 가중치를 업데이트할 때 사용되는 학습 속도를 정의합니다.\n",
    "    - 학습률이 너무 크면 학습이 불안정해질 수 있고, 너무 작으면 학습 속도가 느려집니다.\n",
    "    \"\"\"\n",
    "    LR = 1e-5"
   ],
   "outputs": [],
   "execution_count": 4
  },
  {
   "cell_type": "code",
   "id": "6700bf8e-7f43-4eac-9bea-25eb1d95fb12",
   "metadata": {
    "ExecuteTime": {
     "end_time": "2024-07-13T08:04:34.979929Z",
     "start_time": "2024-07-13T08:04:34.972762Z"
    }
   },
   "source": [
    "def seed_everything(seed):\n",
    "    \"\"\" Fixed RandomSeed\n",
    "    아래의 코드는 머신러닝이나 딥러닝 모델을 훈련할 때, 결과의 재현성을 보장하기 위해 사용되는 함수입니다.\n",
    "    이 함수는 다양한 랜덤 시드를 고정하여, 실행할 때마다 동일한 결과를 얻기 위해 사용됩니다.\n",
    "    \"\"\"\n",
    "    random.seed(seed)\n",
    "    os.environ['PYTHONHASHSEED'] = str(seed)\n",
    "    np.random.seed(seed)\n",
    "    torch.manual_seed(seed)\n",
    "    torch.cuda.manual_seed(seed)\n",
    "    torch.backends.cudnn.deterministic = True\n",
    "    torch.backends.cudnn.benchmark = True\n",
    "\n",
    "seed_everything(Config.SEED)  # Seed 고정"
   ],
   "outputs": [],
   "execution_count": 5
  },
  {
   "cell_type": "markdown",
   "id": "8a682d49",
   "metadata": {
    "papermill": {
     "duration": 0.007331,
     "end_time": "2024-04-08T18:52:31.507909",
     "exception": false,
     "start_time": "2024-04-08T18:52:31.500578",
     "status": "completed"
    },
    "tags": []
   },
   "source": [
    "## Dataset"
   ]
  },
  {
   "cell_type": "code",
   "id": "d2459913-1bf6-40b9-b07d-402699590b8f",
   "metadata": {
    "ExecuteTime": {
     "end_time": "2024-07-13T08:04:36.905221Z",
     "start_time": "2024-07-13T08:04:34.980940Z"
    }
   },
   "source": [
    "from torchvision.datasets import utils\n",
    "from sklearn.model_selection import train_test_split as split\n",
    "\n",
    "utils.tqdm = tqdm\n",
    "\n",
    "\n",
    "class VoiceDataset(Dataset):\n",
    "    download_url = \"https://drive.usercontent.google.com/download?id=1hi1dibkHyFbaxAteLlZJw6r3g9ddd4Lf&export=download&authuser=0&confirm=t&uuid=c40c278b-d74b-4b75-bc79-09e8a3ccffa4&at=APZUnTUvIVFVM9gjGNUCmDb4YZCy%3A1719807236671\"\n",
    "\n",
    "    @classmethod\n",
    "    def download(cls, root='./data', filename=\"download.zip\", md5=None):\n",
    "        cls.download_root = root\n",
    "        filepath = os.path.join(root, filename)\n",
    "        if not os.path.exists(filepath):\n",
    "            utils.download_and_extract_archive(cls.download_url, root, root, filename, md5)\n",
    "            print(\"Extraction completed.\")\n",
    "        else:\n",
    "            print(f\"File already exists in {filepath}\")\n",
    "\n",
    "    @property\n",
    "    def get_dataset_path(self):\n",
    "        filename = \"train.csv\" if self.is_train else \"test.csv\"\n",
    "        if self.custom_csv:\n",
    "            filename = self.custom_csv + \".csv\"\n",
    "        return os.path.join(self.download_root, filename)\n",
    "\n",
    "    @property\n",
    "    def submission_form_path(cls):\n",
    "        return os.path.join(cls.download_root, \"sample_submission.csv\")\n",
    "\n",
    "    def __init__(self, root=\"./data\", train=True, split_ratio=1, transform=None, custom_csv=None):\n",
    "        \"\"\"\n",
    "        Voice Dataset for Contrastive Learning\n",
    "        \n",
    "        :param root: The path to the data directory\n",
    "        :param train: is train or test\n",
    "        :param split_ratio: split ratio for train(can be 0.5 or above) and valid(can be lower than 0.5) set\n",
    "        :param transform: data transformer\n",
    "        :param target_transform: label transformer\n",
    "        \"\"\"\n",
    "        super().__init__()\n",
    "        self.download(root)\n",
    "        self.download_root = root\n",
    "        self.is_train = train\n",
    "        self.custom_csv = custom_csv\n",
    "        self.dataset_name = (\"train\" if train else \"test\") if not custom_csv else custom_csv\n",
    "\n",
    "        raw_data = self._load_data(self.get_dataset_path, split_ratio if split_ratio >= 0.5 else 1-split_ratio)\n",
    "        if not self.is_train or split_ratio >= 0.5:\n",
    "            self.raw_data, _ = raw_data\n",
    "        else:\n",
    "            _, self.raw_data = raw_data\n",
    "            if \"train\" not in self.dataset_name:\n",
    "                print(f\"Warning: The name of dataset should start with 'train' for training set. (current - {self.dataset_name})\")\n",
    "            self.dataset_name = self.dataset_name.replace(\"train\", \"valid\")\n",
    "\n",
    "        self.data = self.raw_data['path'].tolist()\n",
    "\n",
    "        if 'label' in self.raw_data.columns:\n",
    "            self.label = [(0, 1) if lb == 'real' else (1, 0) for lb in self.raw_data['label'].tolist()]\n",
    "        else:\n",
    "            if 'real' in self.raw_data.columns and 'fake' in self.raw_data.columns:\n",
    "                f_label = self.raw_data['fake'].tolist()\n",
    "                r_label = self.raw_data['real'].tolist()\n",
    "                self.label = list(zip(f_label, r_label))\n",
    "            else:\n",
    "                self.label = None\n",
    "\n",
    "        self.transforms(transform)\n",
    "\n",
    "    @staticmethod\n",
    "    def _load_data(dataset_path, split_ratio=1):\n",
    "        random_state = 1  # fixed random_state\n",
    "\n",
    "        df = pd.read_csv(dataset_path)\n",
    "\n",
    "        if split_ratio == 1 or split_ratio == 0:\n",
    "            return (df, None) if split_ratio == 1 else (None, df)\n",
    "\n",
    "        if 'label' in df.columns:\n",
    "            df1, df2, _, _ = split(df, df['label'], test_size=1-split_ratio, random_state=random_state)\n",
    "        else:\n",
    "            df1, df2 = split(df, test_size=1-split_ratio, random_state=random_state)\n",
    "        return df1, df2\n",
    "\n",
    "    def transforms(self, transform=None):\n",
    "        if transform is not None:\n",
    "            if not isinstance(transform, list) and not isinstance(transform, tuple):\n",
    "                transform = [transform]\n",
    "            for t in transform:\n",
    "                self.data, self.label = t(self.data, self.label)\n",
    "\n",
    "    def __len__(self):\n",
    "        return len(self.data)\n",
    "\n",
    "    def __getitem__(self, index):\n",
    "        if self.label is not None:\n",
    "            return self.data[index], self.label[index]\n",
    "        return self.data[index]"
   ],
   "outputs": [],
   "execution_count": 6
  },
  {
   "cell_type": "code",
   "id": "8967c36f6abc224b",
   "metadata": {
    "ExecuteTime": {
     "end_time": "2024-07-13T08:04:37.050915Z",
     "start_time": "2024-07-13T08:04:36.906228Z"
    }
   },
   "source": [
    "split_ratio = 0.8\n",
    "\n",
    "# Train Set\n",
    "train_dataset = VoiceDataset(root=Config.ROOT_FOLDER, train=True, split_ratio=split_ratio)\n",
    "train_augmented = [\n",
    "    VoiceDataset(root=Config.ROOT_FOLDER, train=True, split_ratio=split_ratio, custom_csv=\"train_noise_type1\"),\n",
    "    VoiceDataset(root=Config.ROOT_FOLDER, train=True, split_ratio=split_ratio, custom_csv=\"train_noise_type2\"),\n",
    "    VoiceDataset(root=Config.ROOT_FOLDER, train=True, split_ratio=split_ratio, custom_csv=\"train_noise_type3\"),\n",
    "    VoiceDataset(root=Config.ROOT_FOLDER, train=True, split_ratio=split_ratio, custom_csv=\"train_augmented\")\n",
    "]\n",
    "\n",
    "# Valid Set\n",
    "valid_dataset = VoiceDataset(root=Config.ROOT_FOLDER, train=True, split_ratio=1-split_ratio)\n",
    "valid_augmented = [\n",
    "    VoiceDataset(root=Config.ROOT_FOLDER, train=True, split_ratio=1-split_ratio, custom_csv=\"train_noise_type1\"),\n",
    "    VoiceDataset(root=Config.ROOT_FOLDER, train=True, split_ratio=1-split_ratio, custom_csv=\"train_noise_type2\"),\n",
    "    VoiceDataset(root=Config.ROOT_FOLDER, train=True, split_ratio=1-split_ratio, custom_csv=\"train_noise_type3\"),\n",
    "    VoiceDataset(root=Config.ROOT_FOLDER, train=True, split_ratio=1-split_ratio, custom_csv=\"train_augmented\")\n",
    "]\n",
    "\n",
    "# Test Set\n",
    "test_dataset = VoiceDataset(root=Config.ROOT_FOLDER, train=False)\n",
    "\n",
    "print(f\"Loaded Dataset - train({len(train_dataset)}), valid({len(valid_dataset)}), test({len(test_dataset)})\")\n",
    "print(\"Query Dataset for checking:\", train_dataset[0])\n",
    "train_dataset.raw_data"
   ],
   "outputs": [
    {
     "name": "stdout",
     "output_type": "stream",
     "text": [
      "File already exists in .\\data\\download.zip\n",
      "File already exists in .\\data\\download.zip\n",
      "File already exists in .\\data\\download.zip\n",
      "Query Dataset for checking: ('./train/NQJUDUMG.ogg', (1, 0))\n"
     ]
    },
    {
     "data": {
      "text/plain": [
       "             id                  path label\n",
       "19535  NQJUDUMG  ./train/NQJUDUMG.ogg  fake\n",
       "37414  SGACBBDI  ./train/SGACBBDI.ogg  fake\n",
       "40645  SIBSFMAP  ./train/SIBSFMAP.ogg  fake\n",
       "16487  LLBQPFAD  ./train/LLBQPFAD.ogg  real\n",
       "954    ZWYRTAOF  ./train/ZWYRTAOF.ogg  real\n",
       "...         ...                   ...   ...\n",
       "50057  BDFFJCBX  ./train/BDFFJCBX.ogg  fake\n",
       "32511  NEFSVUCS  ./train/NEFSVUCS.ogg  real\n",
       "5192   MJFGSHIR  ./train/MJFGSHIR.ogg  fake\n",
       "12172  USIDOXOR  ./train/USIDOXOR.ogg  real\n",
       "33003  UNQUGLKV  ./train/UNQUGLKV.ogg  fake\n",
       "\n",
       "[44350 rows x 3 columns]"
      ],
      "text/html": [
       "<div>\n",
       "<style scoped>\n",
       "    .dataframe tbody tr th:only-of-type {\n",
       "        vertical-align: middle;\n",
       "    }\n",
       "\n",
       "    .dataframe tbody tr th {\n",
       "        vertical-align: top;\n",
       "    }\n",
       "\n",
       "    .dataframe thead th {\n",
       "        text-align: right;\n",
       "    }\n",
       "</style>\n",
       "<table border=\"1\" class=\"dataframe\">\n",
       "  <thead>\n",
       "    <tr style=\"text-align: right;\">\n",
       "      <th></th>\n",
       "      <th>id</th>\n",
       "      <th>path</th>\n",
       "      <th>label</th>\n",
       "    </tr>\n",
       "  </thead>\n",
       "  <tbody>\n",
       "    <tr>\n",
       "      <th>19535</th>\n",
       "      <td>NQJUDUMG</td>\n",
       "      <td>./train/NQJUDUMG.ogg</td>\n",
       "      <td>fake</td>\n",
       "    </tr>\n",
       "    <tr>\n",
       "      <th>37414</th>\n",
       "      <td>SGACBBDI</td>\n",
       "      <td>./train/SGACBBDI.ogg</td>\n",
       "      <td>fake</td>\n",
       "    </tr>\n",
       "    <tr>\n",
       "      <th>40645</th>\n",
       "      <td>SIBSFMAP</td>\n",
       "      <td>./train/SIBSFMAP.ogg</td>\n",
       "      <td>fake</td>\n",
       "    </tr>\n",
       "    <tr>\n",
       "      <th>16487</th>\n",
       "      <td>LLBQPFAD</td>\n",
       "      <td>./train/LLBQPFAD.ogg</td>\n",
       "      <td>real</td>\n",
       "    </tr>\n",
       "    <tr>\n",
       "      <th>954</th>\n",
       "      <td>ZWYRTAOF</td>\n",
       "      <td>./train/ZWYRTAOF.ogg</td>\n",
       "      <td>real</td>\n",
       "    </tr>\n",
       "    <tr>\n",
       "      <th>...</th>\n",
       "      <td>...</td>\n",
       "      <td>...</td>\n",
       "      <td>...</td>\n",
       "    </tr>\n",
       "    <tr>\n",
       "      <th>50057</th>\n",
       "      <td>BDFFJCBX</td>\n",
       "      <td>./train/BDFFJCBX.ogg</td>\n",
       "      <td>fake</td>\n",
       "    </tr>\n",
       "    <tr>\n",
       "      <th>32511</th>\n",
       "      <td>NEFSVUCS</td>\n",
       "      <td>./train/NEFSVUCS.ogg</td>\n",
       "      <td>real</td>\n",
       "    </tr>\n",
       "    <tr>\n",
       "      <th>5192</th>\n",
       "      <td>MJFGSHIR</td>\n",
       "      <td>./train/MJFGSHIR.ogg</td>\n",
       "      <td>fake</td>\n",
       "    </tr>\n",
       "    <tr>\n",
       "      <th>12172</th>\n",
       "      <td>USIDOXOR</td>\n",
       "      <td>./train/USIDOXOR.ogg</td>\n",
       "      <td>real</td>\n",
       "    </tr>\n",
       "    <tr>\n",
       "      <th>33003</th>\n",
       "      <td>UNQUGLKV</td>\n",
       "      <td>./train/UNQUGLKV.ogg</td>\n",
       "      <td>fake</td>\n",
       "    </tr>\n",
       "  </tbody>\n",
       "</table>\n",
       "<p>44350 rows × 3 columns</p>\n",
       "</div>"
      ]
     },
     "execution_count": 7,
     "metadata": {},
     "output_type": "execute_result"
    }
   ],
   "execution_count": 7
  },
  {
   "cell_type": "markdown",
   "id": "d7888fecea819346",
   "metadata": {},
   "source": [
    "#### Data Transformation"
   ]
  },
  {
   "cell_type": "code",
   "id": "b02f83258987e0c8",
   "metadata": {},
   "source": [
    "from huggingface_hub import hf_hub_download\n",
    "import wespeaker\n",
    "\n",
    "\n",
    "def get_resnet152():\n",
    "    model_id = \"Wespeaker/wespeaker-voxceleb-resnet152-LM\"\n",
    "    model_name = model_id.replace(\"Wespeaker/wespeaker-\", \"\").replace(\"-\", \"_\")\n",
    "\n",
    "    root_dir = hf_hub_download(model_id, filename=model_name+\".onnx\").replace(model_name+\".onnx\", \"\")\n",
    "\n",
    "    import os\n",
    "    if not os.path.isfile(root_dir+\"avg_model.pt\"):\n",
    "        os.rename(hf_hub_download(model_id, filename=model_name+\".pt\"), root_dir+\"avg_model.pt\")\n",
    "    if not os.path.isfile(root_dir+\"config.yaml\"):\n",
    "        os.rename(hf_hub_download(model_id, filename=model_name+\".yaml\"), root_dir+\"config.yaml\")\n",
    "\n",
    "    resnet = wespeaker.load_model_local(root_dir)\n",
    "    resnet.set_gpu(-1 if device == torch.device('cpu') else DEVICE_NUM)\n",
    "\n",
    "    def resnet152(pcm, sample_rate=None):\n",
    "        if isinstance(pcm, str):\n",
    "            return resnet.extract_embedding(pcm)\n",
    "        else:\n",
    "            pass  # TODO: 메모리에 로드된 상태의 오디오 처리 코드 필요\n",
    "            #return extract_embedding(resnet, pcm, sample_rate)\n",
    "\n",
    "    print(f\"ResNet152 Model Loaded on {resnet.device}\")\n",
    "    return resnet152"
   ],
   "outputs": [],
   "execution_count": null
  },
  {
   "metadata": {},
   "cell_type": "code",
   "outputs": [],
   "execution_count": null,
   "source": [
    "audio_cache_dir = \"audio_cache\"  # audio cache directory\n",
    "\n",
    "if not os.path.isdir(audio_cache_dir):\n",
    "    os.mkdir(audio_cache_dir)"
   ],
   "id": "e98b96a34864598d"
  },
  {
   "cell_type": "code",
   "id": "d8c02a7d-dfb6-4f8b-8df1-db2abaa1cb5d",
   "metadata": {},
   "source": [
    "def to_embedding(dataset_name, pretrained=get_resnet152, sample_rate=Config.SR):\n",
    "    convert_path = lambda path: os.path.join(Config.ROOT_FOLDER, *path.replace(\"./\", \"\").split(\"/\"))\n",
    "    embedding_path = os.path.join(audio_cache_dir, Config.NB_NAME, dataset_name+\"_embedding.pt\")\n",
    "\n",
    "    def get_pretrained_embedding(dataset, label):\n",
    "        if not os.path.isfile(embedding_path):\n",
    "            new_dataset = []\n",
    "            _pretrained = pretrained()\n",
    "\n",
    "            for d in tqdm(dataset):\n",
    "                new_dataset.append(_pretrained(convert_path(d), sample_rate))\n",
    "\n",
    "            torch.save(new_dataset, embedding_path)\n",
    "            print(\"INFO: Voice Embedding saved.\")\n",
    "        else:\n",
    "            new_dataset = torch.load(embedding_path)\n",
    "            print(\"INFO: Pretrained Voice Embedding loaded.\", id(new_dataset))\n",
    "        \n",
    "        return new_dataset, label\n",
    "    \n",
    "    return get_pretrained_embedding"
   ],
   "outputs": [],
   "execution_count": null
  },
  {
   "cell_type": "code",
   "id": "6a2a071509e465a3",
   "metadata": {},
   "source": [
    "to_tensor = lambda d, l: (d, list(map(torch.tensor, l)))  # label to tensor\n",
    "\n",
    "train_dataset.transforms(transform=[to_embedding(train_dataset.dataset_name), to_tensor])\n",
    "for dataset in train_augmented:\n",
    "    dataset.transforms(transform=[to_embedding(dataset.dataset_name), to_tensor])\n",
    "\n",
    "valid_dataset.transforms(transform=[to_embedding(valid_dataset.dataset_name), to_tensor])\n",
    "for dataset in valid_augmented:\n",
    "    dataset.transforms(transform=[to_embedding(dataset.dataset_name), to_tensor])\n",
    "\n",
    "test_dataset.transforms(transform=[to_embedding(test_dataset.dataset_name)])"
   ],
   "outputs": [],
   "execution_count": null
  },
  {
   "cell_type": "code",
   "id": "4739bbf8ec8a6c50",
   "metadata": {},
   "source": [
    "for (data, label), i in zip(train_dataset, range(5)):\n",
    "    print(f\"Dataset {i}: {label}\", data)"
   ],
   "outputs": [],
   "execution_count": null
  },
  {
   "cell_type": "code",
   "id": "6ef836d6cfa4590f",
   "metadata": {},
   "source": [
    "for (data, label), i in zip(valid_dataset, range(5)):\n",
    "    print(f\"Dataset {i}: {label}\", data)"
   ],
   "outputs": [],
   "execution_count": null
  },
  {
   "cell_type": "code",
   "id": "b4306aa86c180ad8",
   "metadata": {},
   "source": [
    "for dataset, i in zip(test_dataset, range(5)):\n",
    "    print(f\"Dataset {i}:\", dataset)"
   ],
   "outputs": [],
   "execution_count": null
  },
  {
   "metadata": {},
   "cell_type": "code",
   "outputs": [],
   "execution_count": null,
   "source": [
    "# Combine Augmented\n",
    "for dataset in train_augmented:\n",
    "    train_dataset.data.extend(dataset.data)\n",
    "    train_dataset.label.extend(dataset.label)\n",
    "\n",
    "for dataset in valid_augmented:\n",
    "    valid_dataset.data.extend(dataset.data)\n",
    "    valid_dataset.label.extend(dataset.label)\n",
    "\n",
    "print(f\"Augmented Dataset - train({len(train_dataset)}), valid({len(valid_dataset)}), test({len(test_dataset)})\")"
   ],
   "id": "460673a5b9f5d02"
  },
  {
   "cell_type": "markdown",
   "id": "270e0ffa984bb3a",
   "metadata": {},
   "source": [
    "## DataLoader\n",
    "    - DataLoader는 구축된 데이터셋에서 배치크기(batch_size)에 맞게 데이터를 추출하고, 필요에 따라 섞거나(shuffle=True) 순서대로 반환(shuffle=False)하는 역할을 합니다.\n",
    "    - 훈련 데이터(train_loader)는 일반적으로 섞어서 모델이 데이터에 덜 편향되게 학습하도록하며,\n",
    "      검증 데이터(val_loader)는 모델 성능 평가를 위해 순서대로 사용하고,\n",
    "      테스트 데이터(test_loader)는 최종적인 추론을 위해 사용합니다.\n",
    "\n",
    "    이렇게 DataLoader를 사용함으로써, 효율적인 데이터 처리와 모델 학습 및 평가가 가능해집니다."
   ]
  },
  {
   "cell_type": "code",
   "id": "dff1c7df-fbe7-4a61-9f66-c55138697eab",
   "metadata": {},
   "source": [
    "BATCH_SIZE = Config.BATCH_SIZE\n",
    "\n",
    "train_loader = DataLoader(train_dataset, batch_size=BATCH_SIZE, shuffle=True)\n",
    "valid_loader = DataLoader(valid_dataset, batch_size=BATCH_SIZE, shuffle=False)\n",
    "test_loader = DataLoader(test_dataset, batch_size=BATCH_SIZE, shuffle=False)"
   ],
   "outputs": [],
   "execution_count": null
  },
  {
   "cell_type": "markdown",
   "id": "effb3435-cdb7-4a31-b7ef-fc16237cfc4a",
   "metadata": {},
   "source": [
    "## Define Model"
   ]
  },
  {
   "cell_type": "code",
   "id": "897283254be72389",
   "metadata": {},
   "source": [
    "class VoiceEncoder(nn.Module):\n",
    "    \"\"\" Voice Encoder Model \"\"\"\n",
    "    \n",
    "    def __init__(self, embedding_dim, hidden_dim, output_size):\n",
    "        super().__init__()\n",
    "        self.fc1 = nn.Linear(embedding_dim, hidden_dim)\n",
    "        self.fc2 = nn.Linear(hidden_dim, output_size)\n",
    "        self.relu = nn.ReLU()\n",
    "\n",
    "    def forward(self, x):\n",
    "        h1 = self.relu(self.fc1(x))\n",
    "        out = self.fc2(h1)\n",
    "        return out"
   ],
   "outputs": [],
   "execution_count": null
  },
  {
   "cell_type": "code",
   "id": "aba60869-b8a5-46c2-b185-00131161a158",
   "metadata": {},
   "source": [
    "class VoiceDiscriminator(nn.Module):\n",
    "    \"\"\" Voice Discriminator Model \"\"\"\n",
    "    \n",
    "    def __init__(self, embedding_dim, hidden_size, latent_size):\n",
    "        super().__init__()\n",
    "        self.encoder = VoiceEncoder(embedding_dim, hidden_size, latent_size)\n",
    "        self.classifier = nn.Linear(latent_size, 2)\n",
    "\n",
    "    def forward(self, x):\n",
    "        encoded = self.encoder(x)\n",
    "        out = self.classifier(encoded)\n",
    "        return F.sigmoid(out)"
   ],
   "outputs": [],
   "execution_count": null
  },
  {
   "cell_type": "code",
   "id": "b803a71eb2decea0",
   "metadata": {},
   "source": [
    "# 모델 파라미터 지정\n",
    "model_params = dict(\n",
    "    embedding_dim=len(train_dataset[0][0]),\n",
    "    hidden_size=512,\n",
    "    latent_size=128\n",
    ")\n",
    "model_params"
   ],
   "outputs": [],
   "execution_count": null
  },
  {
   "cell_type": "code",
   "id": "8669c3af6468c5d1",
   "metadata": {},
   "source": [
    "# 모델 생성\n",
    "voice_discrimination_model = VoiceDiscriminator(**model_params)\n",
    "discriminator = voice_discrimination_model\n",
    "discriminator.to(device)"
   ],
   "outputs": [],
   "execution_count": null
  },
  {
   "cell_type": "code",
   "id": "26c3d8aa65edbba",
   "metadata": {},
   "source": [
    "# BinaryCrossEntropy\n",
    "criterion = nn.BCELoss().to(device)"
   ],
   "outputs": [],
   "execution_count": null
  },
  {
   "cell_type": "code",
   "id": "958745152fe04f4f",
   "metadata": {},
   "source": [
    "# Adam optimizer\n",
    "optimizer = torch.optim.Adam(params=discriminator.parameters(), lr=Config.LR)"
   ],
   "outputs": [],
   "execution_count": null
  },
  {
   "cell_type": "markdown",
   "id": "b28c4a8c-0219-46bd-bd46-09d0327fe7eb",
   "metadata": {},
   "source": [
    "## Train & Validation"
   ]
  },
  {
   "cell_type": "code",
   "id": "859d4608",
   "metadata": {},
   "source": [
    "def multi_label_auc(y_true, y_scores):\n",
    "    auc_scores = []\n",
    "    for i in range(y_true.shape[1]):\n",
    "        auc = roc_auc_score(y_true[:, i], y_scores[:, i])\n",
    "        auc_scores.append(auc)\n",
    "    mean_auc_score = np.mean(auc_scores)\n",
    "    return mean_auc_score"
   ],
   "outputs": [],
   "execution_count": null
  },
  {
   "cell_type": "code",
   "id": "28ec4c5c",
   "metadata": {},
   "source": [
    "def validation(model, loader):\n",
    "    model.eval()\n",
    "    val_loss, all_labels, all_probs = [], [], []\n",
    "\n",
    "    with torch.no_grad():\n",
    "        for features, labels in loader:\n",
    "            features = features.float().to(device)\n",
    "            labels = labels.float().to(device)\n",
    "\n",
    "            probs = model(features)\n",
    "\n",
    "            loss = criterion(probs, labels)\n",
    "\n",
    "            val_loss.append(loss.item())\n",
    "\n",
    "            all_labels.append(labels.cpu().numpy())\n",
    "            all_probs.append(probs.cpu().numpy())\n",
    "\n",
    "        _val_loss = np.mean(val_loss)\n",
    "\n",
    "        all_labels = np.concatenate(all_labels, axis=0)\n",
    "        all_probs = np.concatenate(all_probs, axis=0)\n",
    "\n",
    "        # Calculate AUC score\n",
    "        auc_score = multi_label_auc(all_labels, all_probs)\n",
    "\n",
    "    return _val_loss, auc_score"
   ],
   "outputs": [],
   "execution_count": null
  },
  {
   "cell_type": "code",
   "id": "77161583",
   "metadata": {},
   "source": [
    "from sklearn.metrics import roc_auc_score\n",
    "\n",
    "def train(model):\n",
    "    best_val_score = 0\n",
    "    best_model = None\n",
    "    \n",
    "    train_length = len(train_loader)\n",
    "    valid_length = len(valid_loader)\n",
    "    \n",
    "    epochs = tqdm(range(1, Config.N_EPOCHS+1), desc=\"Running Epochs\")\n",
    "    train_progressor = tqdm(train_loader, desc=\"Training\")\n",
    "    valid_progressor = tqdm(valid_loader, desc=\"Validation\")\n",
    "    \n",
    "    for epoch in epochs:\n",
    "        train_loader.reset(total=train_length)\n",
    "        valid_loader.reset(total=valid_length)\n",
    "        \n",
    "        model.train()\n",
    "        train_loss = []\n",
    "        for features, labels in train_progressor:\n",
    "            features = features.float().to(device)\n",
    "            labels = labels.float().to(device)\n",
    "\n",
    "            optimizer.zero_grad()\n",
    "\n",
    "            output = model(features)\n",
    "            loss = criterion(output, labels)\n",
    "\n",
    "            loss.backward()\n",
    "            optimizer.step()\n",
    "\n",
    "            train_loss.append(loss.item())\n",
    "\n",
    "        _val_loss, _val_score = validation(model, valid_progressor)\n",
    "        _train_loss = np.mean(train_loss)\n",
    "        print(f\"\\rEpoch [{epoch}], Train Loss : [{_train_loss:.6f}] Val Loss : [{_val_loss:.6f}] Val AUC : [{_val_score:.6%}]\", end=\"\\n\" if epoch % 10 == 0 or epoch == Config.N_EPOCHS else \"\")\n",
    "\n",
    "        if best_val_score < _val_score:\n",
    "            best_val_score = _val_score\n",
    "            best_model = model\n",
    "    \n",
    "    return best_model, best_val_score"
   ],
   "outputs": [],
   "execution_count": null
  },
  {
   "cell_type": "code",
   "id": "394a0109",
   "metadata": {},
   "source": "infer_model, infer_score = train(discriminator)",
   "outputs": [],
   "execution_count": null
  },
  {
   "cell_type": "code",
   "id": "f49b0f23f044b1f2",
   "metadata": {},
   "source": [
    "if not os.path.isdir(os.path.join(\".\", \"models\")):\n",
    "    os.mkdir(os.path.join(\".\", \"models\"))\n",
    "\n",
    "# Model Save\n",
    "save_path = os.path.join(\".\", \"models\", f\"{Config.NB_NAME}_acc_{infer_score:6%}.pt\")\n",
    "torch.save(discriminator.state_dict(), save_path)\n",
    "print(f\"Model saved to {save_path}\")"
   ],
   "outputs": [],
   "execution_count": null
  },
  {
   "cell_type": "markdown",
   "id": "a978b0e6-b773-423a-93e4-ce463f4d4d84",
   "metadata": {},
   "source": [
    "### Inference\n",
    "테스트 데이터셋에 대한 추론은 다음 순서로 진행됩니다.\n",
    "\n",
    "1. 모델 및 디바이스 설정\n",
    "    - 모델을 주어진 device(GPU 또는 CPU)로 이동시키고, 평가모드로 전환합니다.\n",
    "2. 예측 수행\n",
    "    - 예측 결과를 저장한 빈 리스트를 초기화하고 test_loader에서 배치별로 데이터를 불러와 예측을 수행합니다.\n",
    "    - 각 배치에 대해 스펙트로그램 데이터를 device로 이동시킵니다.\n",
    "    - 모델 예측 확률(probs)을 계산합니다.\n",
    "    - 예측 확률을 predictions리스트에 추가합니다."
   ]
  },
  {
   "cell_type": "code",
   "id": "321d8ce1",
   "metadata": {},
   "source": [
    "def inference(model):\n",
    "    predictions = []\n",
    "    \n",
    "    model.to(device)\n",
    "    model.eval()\n",
    "    with torch.no_grad():\n",
    "        for features in tqdm(test_loader):\n",
    "            probs = model(features)\n",
    "\n",
    "            probs = probs.cpu().detach().numpy()\n",
    "            predictions += probs.tolist()\n",
    "    return predictions"
   ],
   "outputs": [],
   "execution_count": null
  },
  {
   "cell_type": "code",
   "id": "ff139b68",
   "metadata": {},
   "source": "predicted_labels = inference(discriminator)",
   "outputs": [],
   "execution_count": null
  },
  {
   "cell_type": "markdown",
   "id": "a8fae66d-8f54-46d5-9201-0f4b0db76e76",
   "metadata": {},
   "source": [
    "### Submission\n",
    "추론 결과를 제출 양식에 덮어 씌워 CSV 파일로 생성하는 과정은 다음과 같습니다.\n",
    "\n",
    "1. 제출 양식 로드\n",
    "    - pd.read_csv('./sample_submission.csv')를 사용하여 제출을 위한 샘플 형식 파일을 로드합니다.\n",
    "    - 이 파일은 일반적으로 각 테스트 샘플에 대한 ID와 예측해야 하는 필드가 포함된 템플릿 형태를 가지고 있습니다.\n",
    "2. 예측 결과 할당\n",
    "    - submit.iloc[:,1:] = preds 추론함수(inference)에서 반환된 예측결과(preds)를 샘플 제출 파일에 2번째 열부터 할당합니다.\n",
    "3. 제출 파일 저장\n",
    "    - 수정된 제출 파일을 baseline_submit 이란 이름의 CSV 파일로 저장합니다.\n",
    "    - index=False는 파일 저장시 추가적인 index가 발생하지 않도록 설정하여, 제작한 제출 파일과 동일한 형태의 파일을 저장합니다."
   ]
  },
  {
   "cell_type": "code",
   "id": "3f8314c4-1dce-4f79-9f3d-77d320a3746e",
   "metadata": {},
   "source": [
    "submit = pd.read_csv(test_dataset.submission_form_path)\n",
    "submit.iloc[:, 1:] = predicted_labels\n",
    "submit.head()"
   ],
   "outputs": [],
   "execution_count": null
  },
  {
   "cell_type": "code",
   "id": "e28d71bc-6703-40f7-9716-a0ef897eca83",
   "metadata": {},
   "source": "submit.to_csv(f\"{Config.NB_NAME}_acc_{infer_score:6%}_submit.csv\", index=False)",
   "outputs": [],
   "execution_count": null
  },
  {
   "cell_type": "code",
   "id": "50182ad69c2bf4f9",
   "metadata": {},
   "source": [],
   "outputs": [],
   "execution_count": null
  }
 ],
 "metadata": {
  "kaggle": {
   "accelerator": "gpu",
   "dataSources": [
    {
     "databundleVersionId": 8068726,
     "sourceId": 70203,
     "sourceType": "competition"
    },
    {
     "datasetId": 4732842,
     "sourceId": 8066583,
     "sourceType": "datasetVersion"
    }
   ],
   "dockerImageVersionId": 30674,
   "isGpuEnabled": true,
   "isInternetEnabled": true,
   "language": "python",
   "sourceType": "notebook"
  },
  "kernelspec": {
   "display_name": "Python 3 (ipykernel)",
   "language": "python",
   "name": "python3"
  },
  "language_info": {
   "codemirror_mode": {
    "name": "ipython",
    "version": 3
   },
   "file_extension": ".py",
   "mimetype": "text/x-python",
   "name": "python",
   "nbconvert_exporter": "python",
   "pygments_lexer": "ipython3",
   "version": "3.11.7"
  },
  "papermill": {
   "default_parameters": {},
   "duration": 1830.928153,
   "end_time": "2024-04-08T19:22:15.265404",
   "environment_variables": {},
   "exception": null,
   "input_path": "__notebook__.ipynb",
   "output_path": "__notebook__.ipynb",
   "parameters": {},
   "start_time": "2024-04-08T18:51:44.337251",
   "version": "2.5.0"
  },
  "widgets": {
   "application/vnd.jupyter.widget-state+json": {
    "state": {
     "01a8f214ec354c44b73d439565382278": {
      "model_module": "@jupyter-widgets/base",
      "model_module_version": "1.2.0",
      "model_name": "LayoutModel",
      "state": {
       "_model_module": "@jupyter-widgets/base",
       "_model_module_version": "1.2.0",
       "_model_name": "LayoutModel",
       "_view_count": null,
       "_view_module": "@jupyter-widgets/base",
       "_view_module_version": "1.2.0",
       "_view_name": "LayoutView",
       "align_content": null,
       "align_items": null,
       "align_self": null,
       "border": null,
       "bottom": null,
       "display": null,
       "flex": null,
       "flex_flow": null,
       "grid_area": null,
       "grid_auto_columns": null,
       "grid_auto_flow": null,
       "grid_auto_rows": null,
       "grid_column": null,
       "grid_gap": null,
       "grid_row": null,
       "grid_template_areas": null,
       "grid_template_columns": null,
       "grid_template_rows": null,
       "height": null,
       "justify_content": null,
       "justify_items": null,
       "left": null,
       "margin": null,
       "max_height": null,
       "max_width": null,
       "min_height": null,
       "min_width": null,
       "object_fit": null,
       "object_position": null,
       "order": null,
       "overflow": null,
       "overflow_x": null,
       "overflow_y": null,
       "padding": null,
       "right": null,
       "top": null,
       "visibility": null,
       "width": null
      }
     },
     "06a1ede084cd487ebf3c469be657b53e": {
      "model_module": "@jupyter-widgets/controls",
      "model_module_version": "1.5.0",
      "model_name": "HBoxModel",
      "state": {
       "_dom_classes": [],
       "_model_module": "@jupyter-widgets/controls",
       "_model_module_version": "1.5.0",
       "_model_name": "HBoxModel",
       "_view_count": null,
       "_view_module": "@jupyter-widgets/controls",
       "_view_module_version": "1.5.0",
       "_view_name": "HBoxView",
       "box_style": "",
       "children": [
        "IPY_MODEL_80013ce73542415e82be091acccb89fe",
        "IPY_MODEL_d280070ca871485fbd2b7d34b1c9fd10",
        "IPY_MODEL_8212bde7695f494cbabea66983e4cf29"
       ],
       "layout": "IPY_MODEL_c4da594b806c4c2bbff6e8cdaf6088eb"
      }
     },
     "37e28ba3d8564da4a3257c3729310584": {
      "model_module": "@jupyter-widgets/controls",
      "model_module_version": "1.5.0",
      "model_name": "DescriptionStyleModel",
      "state": {
       "_model_module": "@jupyter-widgets/controls",
       "_model_module_version": "1.5.0",
       "_model_name": "DescriptionStyleModel",
       "_view_count": null,
       "_view_module": "@jupyter-widgets/base",
       "_view_module_version": "1.2.0",
       "_view_name": "StyleView",
       "description_width": ""
      }
     },
     "80013ce73542415e82be091acccb89fe": {
      "model_module": "@jupyter-widgets/controls",
      "model_module_version": "1.5.0",
      "model_name": "HTMLModel",
      "state": {
       "_dom_classes": [],
       "_model_module": "@jupyter-widgets/controls",
       "_model_module_version": "1.5.0",
       "_model_name": "HTMLModel",
       "_view_count": null,
       "_view_module": "@jupyter-widgets/controls",
       "_view_module_version": "1.5.0",
       "_view_name": "HTMLView",
       "description": "",
       "description_tooltip": null,
       "layout": "IPY_MODEL_95e72a34a4374fd5b4b147772085bb7c",
       "placeholder": "​",
       "style": "IPY_MODEL_37e28ba3d8564da4a3257c3729310584",
       "value": "model.safetensors: 100%"
      }
     },
     "8212bde7695f494cbabea66983e4cf29": {
      "model_module": "@jupyter-widgets/controls",
      "model_module_version": "1.5.0",
      "model_name": "HTMLModel",
      "state": {
       "_dom_classes": [],
       "_model_module": "@jupyter-widgets/controls",
       "_model_module_version": "1.5.0",
       "_model_name": "HTMLModel",
       "_view_count": null,
       "_view_module": "@jupyter-widgets/controls",
       "_view_module_version": "1.5.0",
       "_view_name": "HTMLView",
       "description": "",
       "description_tooltip": null,
       "layout": "IPY_MODEL_d9e4e04bb60e40d6b46d782f8156d05f",
       "placeholder": "​",
       "style": "IPY_MODEL_b1fa83d0511a4d8a910b8fdb40d32c29",
       "value": " 36.5M/36.5M [00:01&lt;00:00, 41.1MB/s]"
      }
     },
     "95e72a34a4374fd5b4b147772085bb7c": {
      "model_module": "@jupyter-widgets/base",
      "model_module_version": "1.2.0",
      "model_name": "LayoutModel",
      "state": {
       "_model_module": "@jupyter-widgets/base",
       "_model_module_version": "1.2.0",
       "_model_name": "LayoutModel",
       "_view_count": null,
       "_view_module": "@jupyter-widgets/base",
       "_view_module_version": "1.2.0",
       "_view_name": "LayoutView",
       "align_content": null,
       "align_items": null,
       "align_self": null,
       "border": null,
       "bottom": null,
       "display": null,
       "flex": null,
       "flex_flow": null,
       "grid_area": null,
       "grid_auto_columns": null,
       "grid_auto_flow": null,
       "grid_auto_rows": null,
       "grid_column": null,
       "grid_gap": null,
       "grid_row": null,
       "grid_template_areas": null,
       "grid_template_columns": null,
       "grid_template_rows": null,
       "height": null,
       "justify_content": null,
       "justify_items": null,
       "left": null,
       "margin": null,
       "max_height": null,
       "max_width": null,
       "min_height": null,
       "min_width": null,
       "object_fit": null,
       "object_position": null,
       "order": null,
       "overflow": null,
       "overflow_x": null,
       "overflow_y": null,
       "padding": null,
       "right": null,
       "top": null,
       "visibility": null,
       "width": null
      }
     },
     "b1fa83d0511a4d8a910b8fdb40d32c29": {
      "model_module": "@jupyter-widgets/controls",
      "model_module_version": "1.5.0",
      "model_name": "DescriptionStyleModel",
      "state": {
       "_model_module": "@jupyter-widgets/controls",
       "_model_module_version": "1.5.0",
       "_model_name": "DescriptionStyleModel",
       "_view_count": null,
       "_view_module": "@jupyter-widgets/base",
       "_view_module_version": "1.2.0",
       "_view_name": "StyleView",
       "description_width": ""
      }
     },
     "c4da594b806c4c2bbff6e8cdaf6088eb": {
      "model_module": "@jupyter-widgets/base",
      "model_module_version": "1.2.0",
      "model_name": "LayoutModel",
      "state": {
       "_model_module": "@jupyter-widgets/base",
       "_model_module_version": "1.2.0",
       "_model_name": "LayoutModel",
       "_view_count": null,
       "_view_module": "@jupyter-widgets/base",
       "_view_module_version": "1.2.0",
       "_view_name": "LayoutView",
       "align_content": null,
       "align_items": null,
       "align_self": null,
       "border": null,
       "bottom": null,
       "display": null,
       "flex": null,
       "flex_flow": null,
       "grid_area": null,
       "grid_auto_columns": null,
       "grid_auto_flow": null,
       "grid_auto_rows": null,
       "grid_column": null,
       "grid_gap": null,
       "grid_row": null,
       "grid_template_areas": null,
       "grid_template_columns": null,
       "grid_template_rows": null,
       "height": null,
       "justify_content": null,
       "justify_items": null,
       "left": null,
       "margin": null,
       "max_height": null,
       "max_width": null,
       "min_height": null,
       "min_width": null,
       "object_fit": null,
       "object_position": null,
       "order": null,
       "overflow": null,
       "overflow_x": null,
       "overflow_y": null,
       "padding": null,
       "right": null,
       "top": null,
       "visibility": null,
       "width": null
      }
     },
     "d280070ca871485fbd2b7d34b1c9fd10": {
      "model_module": "@jupyter-widgets/controls",
      "model_module_version": "1.5.0",
      "model_name": "FloatProgressModel",
      "state": {
       "_dom_classes": [],
       "_model_module": "@jupyter-widgets/controls",
       "_model_module_version": "1.5.0",
       "_model_name": "FloatProgressModel",
       "_view_count": null,
       "_view_module": "@jupyter-widgets/controls",
       "_view_module_version": "1.5.0",
       "_view_name": "ProgressView",
       "bar_style": "success",
       "description": "",
       "description_tooltip": null,
       "layout": "IPY_MODEL_01a8f214ec354c44b73d439565382278",
       "max": 36494688,
       "min": 0,
       "orientation": "horizontal",
       "style": "IPY_MODEL_dcd2393d73d14514851a7d9ef50315fc",
       "value": 36494688
      }
     },
     "d9e4e04bb60e40d6b46d782f8156d05f": {
      "model_module": "@jupyter-widgets/base",
      "model_module_version": "1.2.0",
      "model_name": "LayoutModel",
      "state": {
       "_model_module": "@jupyter-widgets/base",
       "_model_module_version": "1.2.0",
       "_model_name": "LayoutModel",
       "_view_count": null,
       "_view_module": "@jupyter-widgets/base",
       "_view_module_version": "1.2.0",
       "_view_name": "LayoutView",
       "align_content": null,
       "align_items": null,
       "align_self": null,
       "border": null,
       "bottom": null,
       "display": null,
       "flex": null,
       "flex_flow": null,
       "grid_area": null,
       "grid_auto_columns": null,
       "grid_auto_flow": null,
       "grid_auto_rows": null,
       "grid_column": null,
       "grid_gap": null,
       "grid_row": null,
       "grid_template_areas": null,
       "grid_template_columns": null,
       "grid_template_rows": null,
       "height": null,
       "justify_content": null,
       "justify_items": null,
       "left": null,
       "margin": null,
       "max_height": null,
       "max_width": null,
       "min_height": null,
       "min_width": null,
       "object_fit": null,
       "object_position": null,
       "order": null,
       "overflow": null,
       "overflow_x": null,
       "overflow_y": null,
       "padding": null,
       "right": null,
       "top": null,
       "visibility": null,
       "width": null
      }
     },
     "dcd2393d73d14514851a7d9ef50315fc": {
      "model_module": "@jupyter-widgets/controls",
      "model_module_version": "1.5.0",
      "model_name": "ProgressStyleModel",
      "state": {
       "_model_module": "@jupyter-widgets/controls",
       "_model_module_version": "1.5.0",
       "_model_name": "ProgressStyleModel",
       "_view_count": null,
       "_view_module": "@jupyter-widgets/base",
       "_view_module_version": "1.2.0",
       "_view_name": "StyleView",
       "bar_color": null,
       "description_width": ""
      }
     }
    },
    "version_major": 2,
    "version_minor": 0
   }
  }
 },
 "nbformat": 4,
 "nbformat_minor": 5
}
